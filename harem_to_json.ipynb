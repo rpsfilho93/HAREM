{
 "cells": [
  {
   "cell_type": "code",
   "execution_count": 1,
   "metadata": {},
   "outputs": [],
   "source": [
    "\n",
    "import json\n",
    "import os"
   ]
  },
  {
   "cell_type": "code",
   "execution_count": 2,
   "metadata": {},
   "outputs": [],
   "source": [
    "with open('./data/harem_test_selective_conll2003.txt') as f:\n",
    "    lines = f.readlines()"
   ]
  },
  {
   "cell_type": "code",
   "execution_count": 3,
   "metadata": {},
   "outputs": [
    {
     "data": {
      "text/plain": [
       "'W. O O B-PESSOA\\n'"
      ]
     },
     "execution_count": 3,
     "metadata": {},
     "output_type": "execute_result"
    }
   ],
   "source": [
    "lines[0]"
   ]
  },
  {
   "cell_type": "code",
   "execution_count": 4,
   "metadata": {},
   "outputs": [
    {
     "data": {
      "text/plain": [
       "['W.', 'O', 'O', 'B-PESSOA']"
      ]
     },
     "execution_count": 4,
     "metadata": {},
     "output_type": "execute_result"
    }
   ],
   "source": [
    "lines[0].split()"
   ]
  },
  {
   "cell_type": "code",
   "execution_count": 5,
   "metadata": {},
   "outputs": [
    {
     "data": {
      "text/plain": [
       "'Willian O O B-PESSOA\\n'"
      ]
     },
     "execution_count": 5,
     "metadata": {},
     "output_type": "execute_result"
    }
   ],
   "source": [
    "lines[3]"
   ]
  },
  {
   "cell_type": "code",
   "execution_count": 6,
   "metadata": {},
   "outputs": [
    {
     "data": {
      "text/plain": [
       "'James O O I-PESSOA\\n'"
      ]
     },
     "execution_count": 6,
     "metadata": {},
     "output_type": "execute_result"
    }
   ],
   "source": [
    "lines[4]"
   ]
  },
  {
   "cell_type": "code",
   "execution_count": 7,
   "metadata": {},
   "outputs": [
    {
     "data": {
      "text/plain": [
       "'\\n'"
      ]
     },
     "execution_count": 7,
     "metadata": {},
     "output_type": "execute_result"
    }
   ],
   "source": [
    "lines[5]"
   ]
  },
  {
   "cell_type": "code",
   "execution_count": 9,
   "metadata": {},
   "outputs": [],
   "source": [
    "data_json = []\n",
    "\n",
    "tokens = []\n",
    "pos_tags = []\n",
    "chunk_tags = []\n",
    "ner_tags = []\n",
    "\n",
    "for line in lines:\n",
    "    count = 0\n",
    "    if line == '\\n':\n",
    "       obj = {'id': count, 'tokens': tokens, 'pos_tags': pos_tags, 'chunk_tags': chunk_tags, 'ner_tags': ner_tags}\n",
    "       data_json.append(obj)\n",
    "       count = count + 1\n",
    "\n",
    "       tokens = []\n",
    "       pos_tags = []\n",
    "       chunk_tags = []\n",
    "       ner_tags = []\n",
    "    else:\n",
    "       splitted = line.split()\n",
    "\n",
    "       tokens.append(splitted[0])\n",
    "       pos_tags.append(splitted[1]) \n",
    "       chunk_tags.append(splitted[2])\n",
    "       ner_tags.append(splitted[3])"
   ]
  },
  {
   "cell_type": "code",
   "execution_count": 10,
   "metadata": {},
   "outputs": [
    {
     "data": {
      "text/plain": [
       "{'id': 0,\n",
       " 'tokens': ['W.', 'JAMES'],\n",
       " 'pos_tags': ['O', 'O'],\n",
       " 'chunk_tags': ['O', 'O'],\n",
       " 'ner_tags': ['B-PESSOA', 'I-PESSOA']}"
      ]
     },
     "execution_count": 10,
     "metadata": {},
     "output_type": "execute_result"
    }
   ],
   "source": [
    "data_json[0]"
   ]
  },
  {
   "cell_type": "code",
   "execution_count": 11,
   "metadata": {},
   "outputs": [
    {
     "data": {
      "text/plain": [
       "{'id': 0,\n",
       " 'tokens': ['Willian', 'James'],\n",
       " 'pos_tags': ['O', 'O'],\n",
       " 'chunk_tags': ['O', 'O'],\n",
       " 'ner_tags': ['B-PESSOA', 'I-PESSOA']}"
      ]
     },
     "execution_count": 11,
     "metadata": {},
     "output_type": "execute_result"
    }
   ],
   "source": [
    "data_json[1]"
   ]
  },
  {
   "cell_type": "code",
   "execution_count": 13,
   "metadata": {},
   "outputs": [
    {
     "data": {
      "text/plain": [
       "['O',\n",
       " 'O',\n",
       " 'O',\n",
       " 'O',\n",
       " 'O',\n",
       " 'O',\n",
       " 'O',\n",
       " 'O',\n",
       " 'O',\n",
       " 'B-LOCAL',\n",
       " 'O',\n",
       " 'O',\n",
       " 'O',\n",
       " 'O',\n",
       " 'O',\n",
       " 'O']"
      ]
     },
     "execution_count": 13,
     "metadata": {},
     "output_type": "execute_result"
    }
   ],
   "source": [
    "\n",
    "data_json[3]['ner_tags']"
   ]
  },
  {
   "cell_type": "code",
   "execution_count": 17,
   "metadata": {},
   "outputs": [],
   "source": [
    "folder_path = './data/txt'\n",
    "directory = os.fsencode(folder_path)\n",
    "\n",
    "for file in os.listdir(directory):\n",
    "    file_name = os.fsdecode(file)\n",
    "\n",
    "    with open(folder_path + \"/\" + file_name) as f:\n",
    "        lines += f.readlines()\n",
    "\n",
    "    data_json = []\n",
    "\n",
    "    tokens = []\n",
    "    pos_tags = []\n",
    "    chunk_tags = []\n",
    "    ner_tags = []\n",
    "\n",
    "    count = 0\n",
    "    \n",
    "    for line in lines:\n",
    "        if line == '\\n':\n",
    "            obj = {'id': count, 'tokens': tokens, 'pos_tags': pos_tags, 'chunk_tags': chunk_tags, 'ner_tags': ner_tags}\n",
    "            data_json.append(obj)\n",
    "            count = count + 1\n",
    "\n",
    "            tokens = []\n",
    "            pos_tags = []\n",
    "            chunk_tags = []\n",
    "            ner_tags = []\n",
    "        else:\n",
    "            splitted = line.split()\n",
    "\n",
    "            tokens.append(splitted[0])\n",
    "            pos_tags.append(splitted[1]) \n",
    "            chunk_tags.append(splitted[2])\n",
    "            ner_tags.append(splitted[3])\n",
    "    \n",
    "    with open('./data/json/' + file_name.split('.')[0] + '.json', 'w') as fout:\n",
    "        json.dump(data_json, fout)"
   ]
  },
  {
   "cell_type": "code",
   "execution_count": null,
   "metadata": {},
   "outputs": [],
   "source": []
  }
 ],
 "metadata": {
  "interpreter": {
   "hash": "abecc9efee1d216150679339f7cb39e17f2b3783b014e8db6aa18b4f299df678"
  },
  "kernelspec": {
   "display_name": "Python 3.9.7 64-bit ('base': conda)",
   "language": "python",
   "name": "python3"
  },
  "language_info": {
   "codemirror_mode": {
    "name": "ipython",
    "version": 3
   },
   "file_extension": ".py",
   "mimetype": "text/x-python",
   "name": "python",
   "nbconvert_exporter": "python",
   "pygments_lexer": "ipython3",
   "version": "3.9.7"
  },
  "orig_nbformat": 4
 },
 "nbformat": 4,
 "nbformat_minor": 2
}
